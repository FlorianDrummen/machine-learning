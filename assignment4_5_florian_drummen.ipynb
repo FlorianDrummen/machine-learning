{
 "cells": [
  {
   "cell_type": "markdown",
   "metadata": {},
   "source": [
    "# Assignment 4 5 Florian Drummen\n",
    "\n",
    "\n",
    "## Download the data"
   ]
  },
  {
   "cell_type": "markdown",
   "metadata": {},
   "source": [
    "##  Data Structure\n",
    "\n",
    "Now we load the data using Pandas"
   ]
  },
  {
   "cell_type": "code",
   "execution_count": 1,
   "metadata": {},
   "outputs": [
    {
     "data": {
      "text/html": [
       "<div>\n",
       "<style scoped>\n",
       "    .dataframe tbody tr th:only-of-type {\n",
       "        vertical-align: middle;\n",
       "    }\n",
       "\n",
       "    .dataframe tbody tr th {\n",
       "        vertical-align: top;\n",
       "    }\n",
       "\n",
       "    .dataframe thead th {\n",
       "        text-align: right;\n",
       "    }\n",
       "</style>\n",
       "<table border=\"1\" class=\"dataframe\">\n",
       "  <thead>\n",
       "    <tr style=\"text-align: right;\">\n",
       "      <th></th>\n",
       "      <th>label</th>\n",
       "      <th>id</th>\n",
       "      <th>visitTime</th>\n",
       "      <th>purchaseTime</th>\n",
       "      <th>hour</th>\n",
       "      <th>C1</th>\n",
       "      <th>C2</th>\n",
       "      <th>C3</th>\n",
       "      <th>C4</th>\n",
       "      <th>C5</th>\n",
       "      <th>...</th>\n",
       "      <th>N4</th>\n",
       "      <th>N5</th>\n",
       "      <th>N6</th>\n",
       "      <th>N7</th>\n",
       "      <th>N8</th>\n",
       "      <th>N9</th>\n",
       "      <th>N10</th>\n",
       "      <th>C10</th>\n",
       "      <th>C11</th>\n",
       "      <th>C12</th>\n",
       "    </tr>\n",
       "  </thead>\n",
       "  <tbody>\n",
       "    <tr>\n",
       "      <th>0</th>\n",
       "      <td>-1</td>\n",
       "      <td>61518</td>\n",
       "      <td>19297675</td>\n",
       "      <td>-1</td>\n",
       "      <td>6</td>\n",
       "      <td>928106152</td>\n",
       "      <td>2541203883</td>\n",
       "      <td>3606287998</td>\n",
       "      <td>306394936</td>\n",
       "      <td>2967512603</td>\n",
       "      <td>...</td>\n",
       "      <td>0</td>\n",
       "      <td>0</td>\n",
       "      <td>0</td>\n",
       "      <td>0</td>\n",
       "      <td>0</td>\n",
       "      <td>0</td>\n",
       "      <td>0</td>\n",
       "      <td>1083418268</td>\n",
       "      <td>3831440054</td>\n",
       "      <td>830706566</td>\n",
       "    </tr>\n",
       "    <tr>\n",
       "      <th>1</th>\n",
       "      <td>-1</td>\n",
       "      <td>356604</td>\n",
       "      <td>19320277</td>\n",
       "      <td>-1</td>\n",
       "      <td>12</td>\n",
       "      <td>3382400190</td>\n",
       "      <td>2018710401</td>\n",
       "      <td>1302581498</td>\n",
       "      <td>2308170622</td>\n",
       "      <td>2967512603</td>\n",
       "      <td>...</td>\n",
       "      <td>2</td>\n",
       "      <td>0</td>\n",
       "      <td>0</td>\n",
       "      <td>0</td>\n",
       "      <td>6</td>\n",
       "      <td>0</td>\n",
       "      <td>0</td>\n",
       "      <td>2993954402</td>\n",
       "      <td>2379633508</td>\n",
       "      <td>1284343215</td>\n",
       "    </tr>\n",
       "    <tr>\n",
       "      <th>2</th>\n",
       "      <td>-1</td>\n",
       "      <td>603441</td>\n",
       "      <td>19346318</td>\n",
       "      <td>-1</td>\n",
       "      <td>20</td>\n",
       "      <td>2569487005</td>\n",
       "      <td>2018710401</td>\n",
       "      <td>4121075497</td>\n",
       "      <td>2210625817</td>\n",
       "      <td>2967512603</td>\n",
       "      <td>...</td>\n",
       "      <td>0</td>\n",
       "      <td>0</td>\n",
       "      <td>0</td>\n",
       "      <td>0</td>\n",
       "      <td>0</td>\n",
       "      <td>0</td>\n",
       "      <td>0</td>\n",
       "      <td>1601090997</td>\n",
       "      <td>3617851689</td>\n",
       "      <td>4220791646</td>\n",
       "    </tr>\n",
       "    <tr>\n",
       "      <th>3</th>\n",
       "      <td>-1</td>\n",
       "      <td>192754</td>\n",
       "      <td>19308171</td>\n",
       "      <td>-1</td>\n",
       "      <td>9</td>\n",
       "      <td>2569487005</td>\n",
       "      <td>2018710401</td>\n",
       "      <td>3531445293</td>\n",
       "      <td>652481754</td>\n",
       "      <td>2967512603</td>\n",
       "      <td>...</td>\n",
       "      <td>0</td>\n",
       "      <td>0</td>\n",
       "      <td>0</td>\n",
       "      <td>0</td>\n",
       "      <td>0</td>\n",
       "      <td>0</td>\n",
       "      <td>0</td>\n",
       "      <td>4114483006</td>\n",
       "      <td>3617851689</td>\n",
       "      <td>4220791646</td>\n",
       "    </tr>\n",
       "    <tr>\n",
       "      <th>4</th>\n",
       "      <td>-1</td>\n",
       "      <td>210892</td>\n",
       "      <td>19309442</td>\n",
       "      <td>-1</td>\n",
       "      <td>9</td>\n",
       "      <td>1659166197</td>\n",
       "      <td>2018710401</td>\n",
       "      <td>1047694444</td>\n",
       "      <td>2210625817</td>\n",
       "      <td>2967512603</td>\n",
       "      <td>...</td>\n",
       "      <td>0</td>\n",
       "      <td>0</td>\n",
       "      <td>0</td>\n",
       "      <td>0</td>\n",
       "      <td>0</td>\n",
       "      <td>0</td>\n",
       "      <td>0</td>\n",
       "      <td>1971402551</td>\n",
       "      <td>2196958187</td>\n",
       "      <td>830706566</td>\n",
       "    </tr>\n",
       "  </tbody>\n",
       "</table>\n",
       "<p>5 rows × 27 columns</p>\n",
       "</div>"
      ],
      "text/plain": [
       "   label      id  visitTime  purchaseTime  hour          C1          C2  \\\n",
       "0     -1   61518   19297675            -1     6   928106152  2541203883   \n",
       "1     -1  356604   19320277            -1    12  3382400190  2018710401   \n",
       "2     -1  603441   19346318            -1    20  2569487005  2018710401   \n",
       "3     -1  192754   19308171            -1     9  2569487005  2018710401   \n",
       "4     -1  210892   19309442            -1     9  1659166197  2018710401   \n",
       "\n",
       "           C3          C4          C5  ...  N4  N5  N6  N7  N8  N9  N10  \\\n",
       "0  3606287998   306394936  2967512603  ...   0   0   0   0   0   0    0   \n",
       "1  1302581498  2308170622  2967512603  ...   2   0   0   0   6   0    0   \n",
       "2  4121075497  2210625817  2967512603  ...   0   0   0   0   0   0    0   \n",
       "3  3531445293   652481754  2967512603  ...   0   0   0   0   0   0    0   \n",
       "4  1047694444  2210625817  2967512603  ...   0   0   0   0   0   0    0   \n",
       "\n",
       "          C10         C11         C12  \n",
       "0  1083418268  3831440054   830706566  \n",
       "1  2993954402  2379633508  1284343215  \n",
       "2  1601090997  3617851689  4220791646  \n",
       "3  4114483006  3617851689  4220791646  \n",
       "4  1971402551  2196958187   830706566  \n",
       "\n",
       "[5 rows x 27 columns]"
      ]
     },
     "execution_count": 1,
     "metadata": {},
     "output_type": "execute_result"
    }
   ],
   "source": [
    "import pandas as pd\n",
    "train_csv_path = 'C:/Users/fdrum/Documents/ESCP Business School/Machine Learning in Python/Assignments/Assignment 4/Data/train.csv'\n",
    "test_csv_path= 'C:/Users/fdrum/Documents/ESCP Business School/Machine Learning in Python/Assignments/Assignment 4/Data/test.csv'\n",
    "train_ds = pd.read_csv(train_csv_path)\n",
    "test_ds = pd.read_csv(test_csv_path)\n",
    "\n",
    "train_ds.head()"
   ]
  },
  {
   "cell_type": "code",
   "execution_count": 2,
   "metadata": {},
   "outputs": [
    {
     "data": {
      "image/png": "[encoded data removed]",
      "text/plain": [
       "<Figure size 1440x1080 with 30 Axes>"
      ]
     },
     "metadata": {
      "needs_background": "light"
     },
     "output_type": "display_data"
    }
   ],
   "source": [
    "%matplotlib inline\n",
    "import matplotlib.pyplot as plt\n",
    "train_ds.head().hist(bins=50, figsize=(20,15))\n",
    "plt.show()"
   ]
  },
  {
   "cell_type": "markdown",
   "metadata": {},
   "source": [
    "##  Correlations\n",
    "\n",
    "Since the dataset is not too large, you can easily compute the <code style=\"background:#FAF99B\"><u>*standard correlation coefficient*</u></code> (also called Pearson’s *r* ) between every pair of attributes using the <u><code style=\"background:#FBCCCA\">**corr()**</u> </code>\n",
    "method:"
   ]
  },
  {
   "cell_type": "code",
   "execution_count": 3,
   "metadata": {},
   "outputs": [
    {
     "data": {
      "text/plain": [
       "label           1.000000\n",
       "purchaseTime    1.000000\n",
       "N9              0.514412\n",
       "N10             0.470503\n",
       "N8              0.232069\n",
       "N6              0.230524\n",
       "N4              0.203383\n",
       "N3              0.117648\n",
       "N7              0.092622\n",
       "N5              0.071254\n",
       "N1              0.041259\n",
       "C9              0.029978\n",
       "C6              0.017486\n",
       "C5              0.008654\n",
       "N2              0.008043\n",
       "id              0.006510\n",
       "hour            0.005959\n",
       "visitTime       0.005782\n",
       "C8              0.004194\n",
       "C2              0.003435\n",
       "C3             -0.000707\n",
       "C11            -0.001280\n",
       "C1             -0.002729\n",
       "C10            -0.005066\n",
       "C4             -0.005857\n",
       "C12            -0.016744\n",
       "C7             -0.036506\n",
       "Name: label, dtype: float64"
      ]
     },
     "execution_count": 3,
     "metadata": {},
     "output_type": "execute_result"
    }
   ],
   "source": [
    "corr_matrix = train_ds.corr()\n",
    "corr_matrix[\"label\"].sort_values(ascending=False)"
   ]
  },
  {
   "cell_type": "markdown",
   "metadata": {},
   "source": [
    "Another way to check for correlation between attributes is to use Pandas’<u><code style=\"background:#FBCCCA\">scatter_matrix</u></code> function, which plots every numerical attribute against every other numerical attribute. We will focus on a few key ones to reduce the outputted graphs."
   ]
  },
  {
   "cell_type": "code",
   "execution_count": 4,
   "metadata": {},
   "outputs": [
    {
     "data": {
      "text/plain": [
       "array([[<AxesSubplot:xlabel='N9', ylabel='N9'>,\n",
       "        <AxesSubplot:xlabel='N10', ylabel='N9'>,\n",
       "        <AxesSubplot:xlabel='C7', ylabel='N9'>,\n",
       "        <AxesSubplot:xlabel='C12', ylabel='N9'>],\n",
       "       [<AxesSubplot:xlabel='N9', ylabel='N10'>,\n",
       "        <AxesSubplot:xlabel='N10', ylabel='N10'>,\n",
       "        <AxesSubplot:xlabel='C7', ylabel='N10'>,\n",
       "        <AxesSubplot:xlabel='C12', ylabel='N10'>],\n",
       "       [<AxesSubplot:xlabel='N9', ylabel='C7'>,\n",
       "        <AxesSubplot:xlabel='N10', ylabel='C7'>,\n",
       "        <AxesSubplot:xlabel='C7', ylabel='C7'>,\n",
       "        <AxesSubplot:xlabel='C12', ylabel='C7'>],\n",
       "       [<AxesSubplot:xlabel='N9', ylabel='C12'>,\n",
       "        <AxesSubplot:xlabel='N10', ylabel='C12'>,\n",
       "        <AxesSubplot:xlabel='C7', ylabel='C12'>,\n",
       "        <AxesSubplot:xlabel='C12', ylabel='C12'>]], dtype=object)"
      ]
     },
     "execution_count": 4,
     "metadata": {},
     "output_type": "execute_result"
    },
    {
     "data": {
      "image/png": "[encoded data removed]",
      "text/plain": [
       "<Figure size 864x576 with 16 Axes>"
      ]
     },
     "metadata": {
      "needs_background": "light"
     },
     "output_type": "display_data"
    }
   ],
   "source": [
    "from pandas.plotting import scatter_matrix\n",
    "attributes = [\"N9\", \"N10\", \"C7\",\n",
    "\"C12\"]\n",
    "scatter_matrix(train_ds[attributes], figsize=(12, 8))"
   ]
  },
  {
   "cell_type": "markdown",
   "metadata": {},
   "source": [
    "\n",
    "\n",
    "# Data Preparation"
   ]
  },
  {
   "cell_type": "markdown",
   "metadata": {},
   "source": [
    "## Data Cleaning and labels mapping\n"
   ]
  },
  {
   "cell_type": "code",
   "execution_count": 5,
   "metadata": {},
   "outputs": [],
   "source": [
    "train_ds.dropna() # option 1\n",
    "\n",
    "train_labels = train_ds[\"label\"].copy()\n",
    "test_labels = test_ds[\"label\"].copy()"
   ]
  },
  {
   "cell_type": "markdown",
   "metadata": {},
   "source": [
    "Alternatively Scikit-Learn provides a handy class to take care of missing values: <code style=\"background:#FBCCCA\"><u>SimpleImputer</u></code>."
   ]
  },
  {
   "cell_type": "markdown",
   "metadata": {},
   "source": [
    "## Select and Train a Model\n",
    "\n",
    "Let’s first try to train a Linear Regression model:"
   ]
  },
  {
   "cell_type": "code",
   "execution_count": 6,
   "metadata": {},
   "outputs": [
    {
     "name": "stdout",
     "output_type": "stream",
     "text": [
      "Predictions: [-1 -1 -1 -1]\n",
      "Labels: [-1, -1, -1, -1]\n"
     ]
    }
   ],
   "source": [
    "from sklearn.linear_model import LogisticRegression\n",
    "\n",
    "log_reg = LogisticRegression()\n",
    "log_reg.fit(train_ds, train_labels)\n",
    "#we now have a Log Reg model! Let's see how it performs\n",
    "\n",
    "some_data = train_ds.iloc[:4]\n",
    "some_labels = train_labels.iloc[:4]\n",
    "print(\"Predictions:\", log_reg.predict(some_data))\n",
    "print(\"Labels:\", list(some_labels))"
   ]
  },
  {
   "cell_type": "code",
   "execution_count": 7,
   "metadata": {},
   "outputs": [
    {
     "data": {
      "text/plain": [
       "0.0"
      ]
     },
     "execution_count": 7,
     "metadata": {},
     "output_type": "execute_result"
    }
   ],
   "source": [
    "import numpy as np\n",
    "from sklearn.metrics import mean_squared_error\n",
    "train_predictions = log_reg.predict(train_ds)\n",
    "lin_mse = mean_squared_error(train_labels, train_predictions)\n",
    "lin_rmse = np.sqrt(lin_mse)\n",
    "lin_rmse"
   ]
  },
  {
   "cell_type": "markdown",
   "metadata": {},
   "source": [
    "this model is showing a problem of <u>**overfitting**</u>.\n",
    "\n",
    "To solve that we could either:\n",
    "- use a simpler model\n",
    "- use regularization\n",
    "\n",
    "We'll try to train a new model: <code style=\"background:#FBCCCA\"><u>DecisionTreeRegressor</u></code>"
   ]
  },
  {
   "cell_type": "code",
   "execution_count": 8,
   "metadata": {},
   "outputs": [
    {
     "data": {
      "text/plain": [
       "0.0"
      ]
     },
     "execution_count": 8,
     "metadata": {},
     "output_type": "execute_result"
    }
   ],
   "source": [
    "from sklearn.tree import DecisionTreeRegressor\n",
    "\n",
    "tree_reg = DecisionTreeRegressor()\n",
    "tree_reg.fit(train_ds, train_labels)\n",
    "\n",
    "train_predictions = tree_reg.predict(train_ds)\n",
    "tree_mse = mean_squared_error(train_labels, train_predictions)\n",
    "tree_rmse = np.sqrt(tree_mse)\n",
    "tree_rmse"
   ]
  },
  {
   "cell_type": "markdown",
   "metadata": {},
   "source": [
    "0 Error, still overfitting, let's try a new model:"
   ]
  },
  {
   "cell_type": "markdown",
   "metadata": {},
   "source": [
    "<code style=\"background:#FBCCCA\"><u>RandomForestRegressor</u></code>. \n"
   ]
  },
  {
   "cell_type": "code",
   "execution_count": 9,
   "metadata": {},
   "outputs": [
    {
     "name": "stdout",
     "output_type": "stream",
     "text": [
      "0.0\n"
     ]
    }
   ],
   "source": [
    "from sklearn.ensemble import RandomForestRegressor\n",
    "forest_reg = RandomForestRegressor()\n",
    "forest_reg.fit(train_ds, train_labels)\n",
    "forest_predictions = forest_reg.predict(train_ds)\n",
    "forest_mse = mean_squared_error(train_labels, forest_predictions)\n",
    "forest_mse = np.sqrt(forest_mse)\n",
    "print(forest_mse)"
   ]
  },
  {
   "cell_type": "markdown",
   "metadata": {},
   "source": [
    "## Evaluate  on the Test Set\n",
    "Let's see how our models perform on the test set:"
   ]
  },
  {
   "cell_type": "code",
   "execution_count": 10,
   "metadata": {},
   "outputs": [
    {
     "name": "stdout",
     "output_type": "stream",
     "text": [
      "0.0 0.0 0.0\n"
     ]
    }
   ],
   "source": [
    "logistic_final_predictions = log_reg.predict(test_ds)\n",
    "tree_final_predictions = tree_reg.predict(test_ds)\n",
    "forest_final_predictions = forest_reg.predict(test_ds)\n",
    "logistic_final_mse = mean_squared_error(test_labels, logistic_final_predictions)\n",
    "tree_final_mse = mean_squared_error(test_labels, tree_final_predictions)\n",
    "forest_final_mse = mean_squared_error(test_labels, forest_final_predictions)\n",
    "\n",
    "logistic_final_mse = np.sqrt(logistic_final_mse)\n",
    "tree_final_mse = np.sqrt(tree_final_mse)\n",
    "forest_final_mse = np.sqrt(forest_final_mse)\n",
    "print(logistic_final_mse,tree_final_mse,forest_final_mse)"
   ]
  },
  {
   "cell_type": "code",
   "execution_count": 11,
   "metadata": {},
   "outputs": [],
   "source": [
    "logistic_final_predictions_probability = log_reg.predict_proba(test_ds)"
   ]
  },
  {
   "cell_type": "code",
   "execution_count": 12,
   "metadata": {
    "scrolled": false
   },
   "outputs": [
    {
     "data": {
      "text/plain": [
       "array([[1.00000000e+00, 2.89227214e-18],\n",
       "       [1.00000000e+00, 1.60200716e-14],\n",
       "       [1.00000000e+00, 5.55523602e-15],\n",
       "       ...,\n",
       "       [1.00000000e+00, 1.13300748e-18],\n",
       "       [1.00000000e+00, 1.89451987e-19],\n",
       "       [1.00000000e+00, 1.55345737e-15]])"
      ]
     },
     "execution_count": 12,
     "metadata": {},
     "output_type": "execute_result"
    }
   ],
   "source": [
    "logistic_final_predictions_probability"
   ]
  },
  {
   "cell_type": "code",
   "execution_count": 19,
   "metadata": {},
   "outputs": [],
   "source": [
    "logistic_final_predictions_probability = log_reg.predict_proba(test_ds)\n",
    "logistic_final_predictions_probability_score = log_reg.score(test_ds, test_labels)"
   ]
  },
  {
   "cell_type": "code",
   "execution_count": 20,
   "metadata": {},
   "outputs": [
    {
     "data": {
      "text/plain": [
       "0       -1\n",
       "1       -1\n",
       "2       -1\n",
       "3       -1\n",
       "4       -1\n",
       "        ..\n",
       "32081   -1\n",
       "32082   -1\n",
       "32083   -1\n",
       "32084   -1\n",
       "32085   -1\n",
       "Name: label, Length: 32086, dtype: int64"
      ]
     },
     "execution_count": 20,
     "metadata": {},
     "output_type": "execute_result"
    }
   ],
   "source": [
    "test_labels"
   ]
  },
  {
   "cell_type": "code",
   "execution_count": 21,
   "metadata": {},
   "outputs": [
    {
     "data": {
      "text/plain": [
       "1.0"
      ]
     },
     "execution_count": 21,
     "metadata": {},
     "output_type": "execute_result"
    }
   ],
   "source": [
    "logistic_final_predictions_probability_score"
   ]
  },
  {
   "cell_type": "markdown",
   "metadata": {},
   "source": [
    "## Final Output"
   ]
  },
  {
   "cell_type": "code",
   "execution_count": 22,
   "metadata": {
    "scrolled": true
   },
   "outputs": [],
   "source": [
    "test_ds['pred'] = logistic_final_predictions\n",
    "test_ds['Prob'] = logistic_final_predictions_probability_score"
   ]
  },
  {
   "cell_type": "code",
   "execution_count": 23,
   "metadata": {
    "scrolled": true
   },
   "outputs": [
    {
     "data": {
      "text/html": [
       "<div>\n",
       "<style scoped>\n",
       "    .dataframe tbody tr th:only-of-type {\n",
       "        vertical-align: middle;\n",
       "    }\n",
       "\n",
       "    .dataframe tbody tr th {\n",
       "        vertical-align: top;\n",
       "    }\n",
       "\n",
       "    .dataframe thead th {\n",
       "        text-align: right;\n",
       "    }\n",
       "</style>\n",
       "<table border=\"1\" class=\"dataframe\">\n",
       "  <thead>\n",
       "    <tr style=\"text-align: right;\">\n",
       "      <th></th>\n",
       "      <th>label</th>\n",
       "      <th>id</th>\n",
       "      <th>visitTime</th>\n",
       "      <th>purchaseTime</th>\n",
       "      <th>hour</th>\n",
       "      <th>C1</th>\n",
       "      <th>C2</th>\n",
       "      <th>C3</th>\n",
       "      <th>C4</th>\n",
       "      <th>C5</th>\n",
       "      <th>...</th>\n",
       "      <th>N6</th>\n",
       "      <th>N7</th>\n",
       "      <th>N8</th>\n",
       "      <th>N9</th>\n",
       "      <th>N10</th>\n",
       "      <th>C10</th>\n",
       "      <th>C11</th>\n",
       "      <th>C12</th>\n",
       "      <th>pred</th>\n",
       "      <th>Prob</th>\n",
       "    </tr>\n",
       "  </thead>\n",
       "  <tbody>\n",
       "    <tr>\n",
       "      <th>0</th>\n",
       "      <td>-1</td>\n",
       "      <td>25540</td>\n",
       "      <td>19420446</td>\n",
       "      <td>-1</td>\n",
       "      <td>16</td>\n",
       "      <td>2569487005</td>\n",
       "      <td>2018710401</td>\n",
       "      <td>1429850909</td>\n",
       "      <td>2308170622</td>\n",
       "      <td>2967512603</td>\n",
       "      <td>...</td>\n",
       "      <td>0</td>\n",
       "      <td>0</td>\n",
       "      <td>0</td>\n",
       "      <td>0</td>\n",
       "      <td>0</td>\n",
       "      <td>1887882016</td>\n",
       "      <td>3617851689</td>\n",
       "      <td>4220791646</td>\n",
       "      <td>-1</td>\n",
       "      <td>1.0</td>\n",
       "    </tr>\n",
       "    <tr>\n",
       "      <th>1</th>\n",
       "      <td>-1</td>\n",
       "      <td>29938</td>\n",
       "      <td>19431062</td>\n",
       "      <td>-1</td>\n",
       "      <td>19</td>\n",
       "      <td>1981742921</td>\n",
       "      <td>1235983246</td>\n",
       "      <td>4203734567</td>\n",
       "      <td>652481754</td>\n",
       "      <td>2116767313</td>\n",
       "      <td>...</td>\n",
       "      <td>0</td>\n",
       "      <td>0</td>\n",
       "      <td>0</td>\n",
       "      <td>0</td>\n",
       "      <td>0</td>\n",
       "      <td>3375463994</td>\n",
       "      <td>2379633508</td>\n",
       "      <td>1284343215</td>\n",
       "      <td>-1</td>\n",
       "      <td>1.0</td>\n",
       "    </tr>\n",
       "    <tr>\n",
       "      <th>2</th>\n",
       "      <td>-1</td>\n",
       "      <td>9585</td>\n",
       "      <td>19392956</td>\n",
       "      <td>-1</td>\n",
       "      <td>8</td>\n",
       "      <td>2486871669</td>\n",
       "      <td>1235983246</td>\n",
       "      <td>2776175989</td>\n",
       "      <td>652481754</td>\n",
       "      <td>2116767313</td>\n",
       "      <td>...</td>\n",
       "      <td>0</td>\n",
       "      <td>0</td>\n",
       "      <td>0</td>\n",
       "      <td>0</td>\n",
       "      <td>0</td>\n",
       "      <td>3441876061</td>\n",
       "      <td>2196958187</td>\n",
       "      <td>1550397227</td>\n",
       "      <td>-1</td>\n",
       "      <td>1.0</td>\n",
       "    </tr>\n",
       "    <tr>\n",
       "      <th>3</th>\n",
       "      <td>-1</td>\n",
       "      <td>23597</td>\n",
       "      <td>19416124</td>\n",
       "      <td>-1</td>\n",
       "      <td>15</td>\n",
       "      <td>3427628467</td>\n",
       "      <td>1235983246</td>\n",
       "      <td>4172481347</td>\n",
       "      <td>652481754</td>\n",
       "      <td>2116767313</td>\n",
       "      <td>...</td>\n",
       "      <td>0</td>\n",
       "      <td>0</td>\n",
       "      <td>0</td>\n",
       "      <td>0</td>\n",
       "      <td>0</td>\n",
       "      <td>2835356425</td>\n",
       "      <td>3831440054</td>\n",
       "      <td>1213938795</td>\n",
       "      <td>-1</td>\n",
       "      <td>1.0</td>\n",
       "    </tr>\n",
       "    <tr>\n",
       "      <th>4</th>\n",
       "      <td>-1</td>\n",
       "      <td>27695</td>\n",
       "      <td>19425109</td>\n",
       "      <td>-1</td>\n",
       "      <td>17</td>\n",
       "      <td>2214885086</td>\n",
       "      <td>2541203883</td>\n",
       "      <td>3948279888</td>\n",
       "      <td>652481754</td>\n",
       "      <td>2967512603</td>\n",
       "      <td>...</td>\n",
       "      <td>0</td>\n",
       "      <td>0</td>\n",
       "      <td>0</td>\n",
       "      <td>0</td>\n",
       "      <td>0</td>\n",
       "      <td>1453469701</td>\n",
       "      <td>3831440054</td>\n",
       "      <td>830706566</td>\n",
       "      <td>-1</td>\n",
       "      <td>1.0</td>\n",
       "    </tr>\n",
       "  </tbody>\n",
       "</table>\n",
       "<p>5 rows × 29 columns</p>\n",
       "</div>"
      ],
      "text/plain": [
       "   label     id  visitTime  purchaseTime  hour          C1          C2  \\\n",
       "0     -1  25540   19420446            -1    16  2569487005  2018710401   \n",
       "1     -1  29938   19431062            -1    19  1981742921  1235983246   \n",
       "2     -1   9585   19392956            -1     8  2486871669  1235983246   \n",
       "3     -1  23597   19416124            -1    15  3427628467  1235983246   \n",
       "4     -1  27695   19425109            -1    17  2214885086  2541203883   \n",
       "\n",
       "           C3          C4          C5  ...  N6  N7  N8  N9  N10         C10  \\\n",
       "0  1429850909  2308170622  2967512603  ...   0   0   0   0    0  1887882016   \n",
       "1  4203734567   652481754  2116767313  ...   0   0   0   0    0  3375463994   \n",
       "2  2776175989   652481754  2116767313  ...   0   0   0   0    0  3441876061   \n",
       "3  4172481347   652481754  2116767313  ...   0   0   0   0    0  2835356425   \n",
       "4  3948279888   652481754  2967512603  ...   0   0   0   0    0  1453469701   \n",
       "\n",
       "          C11         C12  pred  Prob  \n",
       "0  3617851689  4220791646    -1   1.0  \n",
       "1  2379633508  1284343215    -1   1.0  \n",
       "2  2196958187  1550397227    -1   1.0  \n",
       "3  3831440054  1213938795    -1   1.0  \n",
       "4  3831440054   830706566    -1   1.0  \n",
       "\n",
       "[5 rows x 29 columns]"
      ]
     },
     "execution_count": 23,
     "metadata": {},
     "output_type": "execute_result"
    }
   ],
   "source": [
    "test_ds.head()"
   ]
  },
  {
   "cell_type": "code",
   "execution_count": 24,
   "metadata": {},
   "outputs": [],
   "source": [
    "del test_ds['label']\n",
    "del test_ds['visitTime']\n",
    "del test_ds['purchaseTime']\n",
    "del test_ds['hour']\n",
    "del test_ds['C1']\n",
    "del test_ds['C2']\n",
    "del test_ds['C3']\n",
    "del test_ds['C4']\n",
    "del test_ds['C5']\n",
    "del test_ds['C6']\n",
    "del test_ds['C7']\n",
    "del test_ds['C8']\n",
    "del test_ds['N1']\n",
    "del test_ds['C9']\n",
    "del test_ds['N2']\n",
    "del test_ds['N3']\n",
    "del test_ds['N4']\n",
    "del test_ds['N5']\n",
    "del test_ds['N6']\n",
    "del test_ds['N7']\n",
    "del test_ds['N8']\n",
    "del test_ds['N9']\n",
    "del test_ds['N10']\n",
    "del test_ds['C10']\n",
    "del test_ds['C11']\n",
    "del test_ds['C12']\n",
    "del test_ds['pred']"
   ]
  },
  {
   "cell_type": "code",
   "execution_count": 25,
   "metadata": {},
   "outputs": [
    {
     "data": {
      "text/html": [
       "<div>\n",
       "<style scoped>\n",
       "    .dataframe tbody tr th:only-of-type {\n",
       "        vertical-align: middle;\n",
       "    }\n",
       "\n",
       "    .dataframe tbody tr th {\n",
       "        vertical-align: top;\n",
       "    }\n",
       "\n",
       "    .dataframe thead th {\n",
       "        text-align: right;\n",
       "    }\n",
       "</style>\n",
       "<table border=\"1\" class=\"dataframe\">\n",
       "  <thead>\n",
       "    <tr style=\"text-align: right;\">\n",
       "      <th></th>\n",
       "      <th>id</th>\n",
       "      <th>Prob</th>\n",
       "    </tr>\n",
       "  </thead>\n",
       "  <tbody>\n",
       "    <tr>\n",
       "      <th>0</th>\n",
       "      <td>25540</td>\n",
       "      <td>1.0</td>\n",
       "    </tr>\n",
       "    <tr>\n",
       "      <th>1</th>\n",
       "      <td>29938</td>\n",
       "      <td>1.0</td>\n",
       "    </tr>\n",
       "    <tr>\n",
       "      <th>2</th>\n",
       "      <td>9585</td>\n",
       "      <td>1.0</td>\n",
       "    </tr>\n",
       "    <tr>\n",
       "      <th>3</th>\n",
       "      <td>23597</td>\n",
       "      <td>1.0</td>\n",
       "    </tr>\n",
       "    <tr>\n",
       "      <th>4</th>\n",
       "      <td>27695</td>\n",
       "      <td>1.0</td>\n",
       "    </tr>\n",
       "  </tbody>\n",
       "</table>\n",
       "</div>"
      ],
      "text/plain": [
       "      id  Prob\n",
       "0  25540   1.0\n",
       "1  29938   1.0\n",
       "2   9585   1.0\n",
       "3  23597   1.0\n",
       "4  27695   1.0"
      ]
     },
     "execution_count": 25,
     "metadata": {},
     "output_type": "execute_result"
    }
   ],
   "source": [
    "test_ds.head()"
   ]
  },
  {
   "cell_type": "code",
   "execution_count": 26,
   "metadata": {},
   "outputs": [],
   "source": [
    "test_ds.to_csv('Assignment 4 5 Florian Drummen.csv')"
   ]
  }
 ],
 "metadata": {
  "kernelspec": {
   "display_name": "Python 3",
   "language": "python",
   "name": "python3"
  },
  "language_info": {
   "codemirror_mode": {
    "name": "ipython",
    "version": 3
   },
   "file_extension": ".py",
   "mimetype": "text/x-python",
   "name": "python",
   "nbconvert_exporter": "python",
   "pygments_lexer": "ipython3",
   "version": "3.8.5"
  }
 },
 "nbformat": 4,
 "nbformat_minor": 4
}
